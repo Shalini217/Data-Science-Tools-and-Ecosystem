{
 "cells": [
  {
   "cell_type": "markdown",
   "id": "e5b5bc7d",
   "metadata": {},
   "source": [
    "# Data Science Tools and Ecosystem"
   ]
  },
  {
   "cell_type": "markdown",
   "id": "29f146c4",
   "metadata": {},
   "source": [
    "## In this notebook, Data Science Tools and Ecosystem are summarized"
   ]
  },
  {
   "cell_type": "markdown",
   "id": "201eceda",
   "metadata": {},
   "source": [
    "### Some of the popular languages that Data Scientists use are:\n",
    "            1. R\n",
    "            2. Python\n",
    "            3. Big Data\n",
    "            4. Power BI"
   ]
  },
  {
   "cell_type": "markdown",
   "id": "226de9e4",
   "metadata": {},
   "source": [
    "### Some of the commonly used libraries used by Data Scientists include:\n",
    "            1. pandas\n",
    "            2. numpy\n",
    "            3. dplyr"
   ]
  },
  {
   "cell_type": "markdown",
   "id": "693f16fa",
   "metadata": {},
   "source": [
    "| Data Science Tools        |\n",
    "|---------------------------|\n",
    "| Jupyter Notebook          |\n",
    "| RStudio                   |\n",
    "| Apache Zeppelin           |\n"
   ]
  },
  {
   "cell_type": "markdown",
   "id": "354bd176",
   "metadata": {},
   "source": [
    "### Below are a few examples of evaluating arithmetic expressions in Python."
   ]
  },
  {
   "cell_type": "markdown",
   "id": "f0465459",
   "metadata": {},
   "source": [
    "# This is a simple arithmetic expression to multiply then add integers"
   ]
  },
  {
   "cell_type": "code",
   "execution_count": 2,
   "id": "4c4dd99a",
   "metadata": {},
   "outputs": [
    {
     "data": {
      "text/plain": [
       "17"
      ]
     },
     "execution_count": 2,
     "metadata": {},
     "output_type": "execute_result"
    }
   ],
   "source": [
    "(3 * 4) + 5"
   ]
  },
  {
   "cell_type": "markdown",
   "id": "b2e5c6cc",
   "metadata": {},
   "source": [
    "# This will convert 200 minutes to hours by diving by 60"
   ]
  },
  {
   "cell_type": "code",
   "execution_count": 3,
   "id": "4dbeacfc",
   "metadata": {},
   "outputs": [
    {
     "data": {
      "text/plain": [
       "3.3333333333333335"
      ]
     },
     "execution_count": 3,
     "metadata": {},
     "output_type": "execute_result"
    }
   ],
   "source": [
    "200/60"
   ]
  },
  {
   "cell_type": "markdown",
   "id": "aec1b1e1",
   "metadata": {},
   "source": [
    "**Objectives**\n",
    "- List popular languages for Data Science\n",
    "- Explain basic data manipulation techniques\n",
    "- Demonstrate data visualization methods"
   ]
  },
  {
   "cell_type": "markdown",
   "id": "98f71828",
   "metadata": {},
   "source": [
    "## Author\n",
    "Shalini Balakrishnan"
   ]
  },
  {
   "cell_type": "code",
   "execution_count": null,
   "id": "11a2ed33",
   "metadata": {},
   "outputs": [],
   "source": []
  }
 ],
 "metadata": {
  "kernelspec": {
   "display_name": "Python 3 (ipykernel)",
   "language": "python",
   "name": "python3"
  },
  "language_info": {
   "codemirror_mode": {
    "name": "ipython",
    "version": 3
   },
   "file_extension": ".py",
   "mimetype": "text/x-python",
   "name": "python",
   "nbconvert_exporter": "python",
   "pygments_lexer": "ipython3",
   "version": "3.10.9"
  }
 },
 "nbformat": 4,
 "nbformat_minor": 5
}
